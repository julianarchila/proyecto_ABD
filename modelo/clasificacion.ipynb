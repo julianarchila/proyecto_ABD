{
 "cells": [
  {
   "cell_type": "code",
   "execution_count": 1,
   "metadata": {},
   "outputs": [],
   "source": [
    "import pandas as pd\n",
    "import numpy as np\n",
    "import matplotlib.pyplot as plt"
   ]
  },
  {
   "cell_type": "code",
   "execution_count": 2,
   "metadata": {},
   "outputs": [
    {
     "data": {
      "text/html": [
       "<div>\n",
       "<style scoped>\n",
       "    .dataframe tbody tr th:only-of-type {\n",
       "        vertical-align: middle;\n",
       "    }\n",
       "\n",
       "    .dataframe tbody tr th {\n",
       "        vertical-align: top;\n",
       "    }\n",
       "\n",
       "    .dataframe thead th {\n",
       "        text-align: right;\n",
       "    }\n",
       "</style>\n",
       "<table border=\"1\" class=\"dataframe\">\n",
       "  <thead>\n",
       "    <tr style=\"text-align: right;\">\n",
       "      <th></th>\n",
       "      <th>distance_from_home</th>\n",
       "      <th>distance_from_last_transaction</th>\n",
       "      <th>ratio_to_median_purchase_price</th>\n",
       "      <th>repeat_retailer</th>\n",
       "      <th>used_chip</th>\n",
       "      <th>used_pin_number</th>\n",
       "      <th>online_order</th>\n",
       "      <th>fraud</th>\n",
       "    </tr>\n",
       "  </thead>\n",
       "  <tbody>\n",
       "    <tr>\n",
       "      <th>0</th>\n",
       "      <td>57.877857</td>\n",
       "      <td>0.311140</td>\n",
       "      <td>1.945940</td>\n",
       "      <td>1.0</td>\n",
       "      <td>1.0</td>\n",
       "      <td>0.0</td>\n",
       "      <td>0.0</td>\n",
       "      <td>0.0</td>\n",
       "    </tr>\n",
       "    <tr>\n",
       "      <th>1</th>\n",
       "      <td>10.829943</td>\n",
       "      <td>0.175592</td>\n",
       "      <td>1.294219</td>\n",
       "      <td>1.0</td>\n",
       "      <td>0.0</td>\n",
       "      <td>0.0</td>\n",
       "      <td>0.0</td>\n",
       "      <td>0.0</td>\n",
       "    </tr>\n",
       "    <tr>\n",
       "      <th>2</th>\n",
       "      <td>5.091079</td>\n",
       "      <td>0.805153</td>\n",
       "      <td>0.427715</td>\n",
       "      <td>1.0</td>\n",
       "      <td>0.0</td>\n",
       "      <td>0.0</td>\n",
       "      <td>1.0</td>\n",
       "      <td>0.0</td>\n",
       "    </tr>\n",
       "    <tr>\n",
       "      <th>3</th>\n",
       "      <td>2.247564</td>\n",
       "      <td>5.600044</td>\n",
       "      <td>0.362663</td>\n",
       "      <td>1.0</td>\n",
       "      <td>1.0</td>\n",
       "      <td>0.0</td>\n",
       "      <td>1.0</td>\n",
       "      <td>0.0</td>\n",
       "    </tr>\n",
       "    <tr>\n",
       "      <th>4</th>\n",
       "      <td>44.190936</td>\n",
       "      <td>0.566486</td>\n",
       "      <td>2.222767</td>\n",
       "      <td>1.0</td>\n",
       "      <td>1.0</td>\n",
       "      <td>0.0</td>\n",
       "      <td>1.0</td>\n",
       "      <td>0.0</td>\n",
       "    </tr>\n",
       "  </tbody>\n",
       "</table>\n",
       "</div>"
      ],
      "text/plain": [
       "   distance_from_home  distance_from_last_transaction  \\\n",
       "0           57.877857                        0.311140   \n",
       "1           10.829943                        0.175592   \n",
       "2            5.091079                        0.805153   \n",
       "3            2.247564                        5.600044   \n",
       "4           44.190936                        0.566486   \n",
       "\n",
       "   ratio_to_median_purchase_price  repeat_retailer  used_chip  \\\n",
       "0                        1.945940              1.0        1.0   \n",
       "1                        1.294219              1.0        0.0   \n",
       "2                        0.427715              1.0        0.0   \n",
       "3                        0.362663              1.0        1.0   \n",
       "4                        2.222767              1.0        1.0   \n",
       "\n",
       "   used_pin_number  online_order  fraud  \n",
       "0              0.0           0.0    0.0  \n",
       "1              0.0           0.0    0.0  \n",
       "2              0.0           1.0    0.0  \n",
       "3              0.0           1.0    0.0  \n",
       "4              0.0           1.0    0.0  "
      ]
     },
     "execution_count": 2,
     "metadata": {},
     "output_type": "execute_result"
    }
   ],
   "source": [
    "df = pd.read_csv('./card_transdata.csv')\n",
    "df.head()"
   ]
  },
  {
   "cell_type": "code",
   "execution_count": 3,
   "metadata": {},
   "outputs": [
    {
     "data": {
      "text/plain": [
       "(distance_from_home                2.269935e-16\n",
       " distance_from_last_transaction    6.111023e-17\n",
       " ratio_to_median_purchase_price   -2.632543e-16\n",
       " repeat_retailer                   6.860290e-17\n",
       " used_chip                        -3.810818e-17\n",
       " used_pin_number                  -4.326495e-17\n",
       " online_order                     -9.585222e-18\n",
       " dtype: float64,\n",
       " distance_from_home                1.0\n",
       " distance_from_last_transaction    1.0\n",
       " ratio_to_median_purchase_price    1.0\n",
       " repeat_retailer                   1.0\n",
       " used_chip                         1.0\n",
       " used_pin_number                   1.0\n",
       " online_order                      1.0\n",
       " dtype: float64)"
      ]
     },
     "execution_count": 3,
     "metadata": {},
     "output_type": "execute_result"
    }
   ],
   "source": [
    "# Paso 2: Preprocesamiento de Datos - Normalización de los datos\n",
    "\n",
    "# Seleccionamos todas las columnas excepto la etiqueta 'fraud'\n",
    "features = df.drop('fraud', axis=1)\n",
    "\n",
    "# Calculamos la media y desviación estándar de las características\n",
    "mean = features.mean()\n",
    "std = features.std()\n",
    "\n",
    "# Normalizamos las características\n",
    "features_normalized = (features - mean) / std\n",
    "\n",
    "# Comprobamos la media y desviación estándar después de la normalización\n",
    "(features_normalized.mean(), features_normalized.std())\n"
   ]
  },
  {
   "cell_type": "code",
   "execution_count": 4,
   "metadata": {},
   "outputs": [
    {
     "data": {
      "text/plain": [
       "array([0.16330953, 0.30660381, 0.44962314, 0.59246525, 0.73505104,\n",
       "       0.87759479, 1.        ])"
      ]
     },
     "execution_count": 4,
     "metadata": {},
     "output_type": "execute_result"
    }
   ],
   "source": [
    "# Paso 3: Implementación de PCA\n",
    "\n",
    "# Calculamos la matriz de covarianza de las características normalizadas\n",
    "covariance_matrix = np.cov(features_normalized, rowvar=False)\n",
    "\n",
    "# Calculamos los valores propios y vectores propios de la matriz de covarianza\n",
    "eigenvalues, eigenvectors = np.linalg.eigh(covariance_matrix)\n",
    "\n",
    "# Ordenamos los vectores propios en orden descendente de los valores propios\n",
    "sorted_index = np.argsort(eigenvalues)[::-1]\n",
    "sorted_eigenvalues = eigenvalues[sorted_index]\n",
    "sorted_eigenvectors = eigenvectors[:, sorted_index]\n",
    "\n",
    "# Calculamos la varianza explicada por cada componente principal\n",
    "explained_variances = sorted_eigenvalues / sum(sorted_eigenvalues)\n",
    "\n",
    "# Mostramos la varianza explicada por los primeros componentes principales\n",
    "explained_variances.cumsum()\n"
   ]
  },
  {
   "cell_type": "code",
   "execution_count": 5,
   "metadata": {},
   "outputs": [
    {
     "ename": "NameError",
     "evalue": "name 'train_test_split' is not defined",
     "output_type": "error",
     "traceback": [
      "\u001b[0;31m---------------------------------------------------------------------------\u001b[0m",
      "\u001b[0;31mNameError\u001b[0m                                 Traceback (most recent call last)",
      "\u001b[1;32m/home/julian/Dev/proyecto_ABD/modelo/clasificacion.ipynb Cell 5\u001b[0m line \u001b[0;36m3\n\u001b[1;32m     <a href='vscode-notebook-cell:/home/julian/Dev/proyecto_ABD/modelo/clasificacion.ipynb#W4sZmlsZQ%3D%3D?line=28'>29</a>\u001b[0m \u001b[39m# Preparación de los datos para el modelo de clasificación\u001b[39;00m\n\u001b[1;32m     <a href='vscode-notebook-cell:/home/julian/Dev/proyecto_ABD/modelo/clasificacion.ipynb#W4sZmlsZQ%3D%3D?line=29'>30</a>\u001b[0m y \u001b[39m=\u001b[39m df[\u001b[39m'\u001b[39m\u001b[39mfraud\u001b[39m\u001b[39m'\u001b[39m]\u001b[39m.\u001b[39mvalues\n\u001b[0;32m---> <a href='vscode-notebook-cell:/home/julian/Dev/proyecto_ABD/modelo/clasificacion.ipynb#W4sZmlsZQ%3D%3D?line=30'>31</a>\u001b[0m X_train_pca, X_test_pca, y_train, y_test \u001b[39m=\u001b[39m train_test_split(X_pca, y, test_size\u001b[39m=\u001b[39m\u001b[39m0.3\u001b[39m, random_state\u001b[39m=\u001b[39m\u001b[39m42\u001b[39m)\n\u001b[1;32m     <a href='vscode-notebook-cell:/home/julian/Dev/proyecto_ABD/modelo/clasificacion.ipynb#W4sZmlsZQ%3D%3D?line=32'>33</a>\u001b[0m \u001b[39m# Entrenamiento del modelo de regresión logística\u001b[39;00m\n\u001b[1;32m     <a href='vscode-notebook-cell:/home/julian/Dev/proyecto_ABD/modelo/clasificacion.ipynb#W4sZmlsZQ%3D%3D?line=33'>34</a>\u001b[0m weights \u001b[39m=\u001b[39m logistic_regression(X_train_pca, y_train, num_steps\u001b[39m=\u001b[39m\u001b[39m30000\u001b[39m, learning_rate\u001b[39m=\u001b[39m\u001b[39m5e-5\u001b[39m)\n",
      "\u001b[0;31mNameError\u001b[0m: name 'train_test_split' is not defined"
     ]
    }
   ],
   "source": [
    "# Proyectamos los datos en los primeros tres componentes principales\n",
    "num_components = 3\n",
    "projection_matrix = sorted_eigenvectors[:, :num_components]\n",
    "X_pca = np.dot(features_normalized, projection_matrix)\n",
    "\n",
    "# Función sigmoide, que será utilizada por nuestro modelo de clasificación\n",
    "def sigmoid(z):\n",
    "    return 1 / (1 + np.exp(-z))\n",
    "\n",
    "# Implementación de la regresión logística desde cero\n",
    "def logistic_regression(X, y, num_steps, learning_rate):\n",
    "    weights = np.zeros(X.shape[1])\n",
    "    for step in range(num_steps):\n",
    "        scores = np.dot(X, weights)\n",
    "        predictions = sigmoid(scores)\n",
    "\n",
    "        # Actualización de pesos con descenso de gradiente\n",
    "        output_error_signal = y - predictions\n",
    "        gradient = np.dot(X.T, output_error_signal)\n",
    "        weights += learning_rate * gradient\n",
    "        \n",
    "        # Calculamos el log-loss para monitorear\n",
    "        if step % 10000 == 0:\n",
    "            loss = -np.mean(y * np.log(predictions) + (1 - y) * np.log(1 - predictions))\n",
    "            print(\"Loss:\", loss)\n",
    "    \n",
    "    return weights\n",
    "\n",
    "# Preparación de los datos para el modelo de clasificación\n",
    "y = df['fraud'].values\n",
    "X_train_pca, X_test_pca, y_train, y_test = train_test_split(X_pca, y, test_size=0.3, random_state=42)\n",
    "\n",
    "# Entrenamiento del modelo de regresión logística\n",
    "weights = logistic_regression(X_train_pca, y_train, num_steps=30000, learning_rate=5e-5)\n",
    "\n",
    "weights\n"
   ]
  },
  {
   "cell_type": "code",
   "execution_count": 7,
   "metadata": {},
   "outputs": [
    {
     "name": "stdout",
     "output_type": "stream",
     "text": [
      "Loss: 0.6931471805599456\n"
     ]
    },
    {
     "name": "stderr",
     "output_type": "stream",
     "text": [
      "/tmp/ipykernel_85642/538524321.py:8: RuntimeWarning: overflow encountered in exp\n",
      "  return 1 / (1 + np.exp(-z))\n",
      "/tmp/ipykernel_85642/538524321.py:24: RuntimeWarning: divide by zero encountered in log\n",
      "  loss = -np.mean(y * np.log(predictions) + (1 - y) * np.log(1 - predictions))\n",
      "/tmp/ipykernel_85642/538524321.py:24: RuntimeWarning: invalid value encountered in multiply\n",
      "  loss = -np.mean(y * np.log(predictions) + (1 - y) * np.log(1 - predictions))\n"
     ]
    },
    {
     "name": "stdout",
     "output_type": "stream",
     "text": [
      "Loss: nan\n",
      "Loss: nan\n"
     ]
    },
    {
     "data": {
      "text/plain": [
       "array([-4.15034476, -3.49552384, -2.19600454])"
      ]
     },
     "execution_count": 7,
     "metadata": {},
     "output_type": "execute_result"
    }
   ],
   "source": [
    "# Paso 5: División manual del conjunto de datos en entrenamiento y prueba\n",
    "\n",
    "# Definimos una función para dividir los datos\n",
    "def split_data(X, y, test_ratio, random_seed=42):\n",
    "    np.random.seed(random_seed)\n",
    "    shuffled_indices = np.random.permutation(len(X))\n",
    "    test_set_size = int(len(X) * test_ratio)\n",
    "    test_indices = shuffled_indices[:test_set_size]\n",
    "    train_indices = shuffled_indices[test_set_size:]\n",
    "    return X[train_indices], X[test_indices], y[train_indices], y[test_indices]\n",
    "\n",
    "# Dividimos los datos en un 70% para entrenamiento y un 30% para prueba\n",
    "X_train_pca, X_test_pca, y_train, y_test = split_data(X_pca, y, test_ratio=0.3)\n",
    "\n",
    "# Entrenamos el modelo de regresión logística con los datos de entrenamiento\n",
    "weights = logistic_regression(X_train_pca, y_train, num_steps=30000, learning_rate=5e-5)\n",
    "\n",
    "weights\n"
   ]
  },
  {
   "cell_type": "code",
   "execution_count": 9,
   "metadata": {},
   "outputs": [
    {
     "data": {
      "text/plain": [
       "0.4589066666666667"
      ]
     },
     "execution_count": 9,
     "metadata": {},
     "output_type": "execute_result"
    }
   ],
   "source": [
    "# Paso 6: Evaluación del Modelo\n",
    "\n",
    "# Función para predecir etiquetas usando el modelo de regresión logística\n",
    "def predict_logistic_regression(X, weights):\n",
    "    scores = np.dot(X, weights)\n",
    "    predictions = sigmoid(scores)\n",
    "    return predictions.round()  # Redondeamos para obtener la clasificación binaria\n",
    "\n",
    "# Predecimos en el conjunto de pruebas\n",
    "y_pred_test = predict_logistic_regression(X_test_pca, weights)\n",
    "\n",
    "# Calculamos la exactitud\n",
    "accuracy = np.mean(y_pred_test == y_test)\n",
    "accuracy\n"
   ]
  },
  {
   "cell_type": "code",
   "execution_count": 10,
   "metadata": {},
   "outputs": [
    {
     "data": {
      "image/png": "[encoded data removed]",
      "text/plain": [
       "<Figure size 1000x600 with 1 Axes>"
      ]
     },
     "metadata": {},
     "output_type": "display_data"
    }
   ],
   "source": [
    "# Paso 7: Visualización de Resultados\n",
    "\n",
    "# Calculamos las probabilidades de fraude usando el modelo de regresión logística\n",
    "y_prob_test = sigmoid(np.dot(X_test_pca, weights))\n",
    "\n",
    "# Creamos un histograma de las probabilidades de fraude predichas\n",
    "plt.figure(figsize=(10, 6))\n",
    "plt.hist(y_prob_test, bins=10, alpha=0.7)\n",
    "plt.title('Histograma de Probabilidades de Fraude Predichas')\n",
    "plt.xlabel('Probabilidad de Fraude')\n",
    "plt.ylabel('Frecuencia')\n",
    "plt.show()"
   ]
  },
  {
   "cell_type": "code",
   "execution_count": 12,
   "metadata": {},
   "outputs": [
    {
     "data": {
      "image/png": "[encoded data removed]",
      "text/plain": [
       "<Figure size 1000x600 with 1 Axes>"
      ]
     },
     "metadata": {},
     "output_type": "display_data"
    }
   ],
   "source": [
    "plt.figure(figsize=(10, 6))\n",
    "\n",
    "# Indices de cada muestra para el eje x\n",
    "indices = range(len(y_test))\n",
    "\n",
    "# Valores reales\n",
    "plt.scatter(indices, y_test, alpha=0.7, label='Valores Reales', color='red')\n",
    "\n",
    "# Valores predichos\n",
    "plt.scatter(indices, y_pred_test, alpha=0.7, label='Valores Predichos', color='blue')\n",
    "\n",
    "plt.title('Comparación de los Valores Predichos vs. Reales')\n",
    "plt.xlabel('Índice de la Muestra')\n",
    "plt.ylabel('Clasificación')\n",
    "plt.legend()\n",
    "plt.grid(True)\n",
    "plt.show()\n"
   ]
  },
  {
   "cell_type": "markdown",
   "metadata": {},
   "source": [
    "\n",
    "Claro, aquí tienes un resumen detallado de cada paso que hemos realizado:\n",
    "\n",
    "Carga de Datos: Iniciamos cargando los datos de transacciones bancarias desde un archivo CSV utilizando Pandas, lo cual nos permitió inspeccionar la estructura y contenido de nuestro dataset.\n",
    "\n",
    "Preprocesamiento de Datos: Normalizamos las características del dataset para garantizar que PCA funcionara correctamente, ya que esta técnica es sensible a las escalas de las variables. La normalización se realizó restando la media y dividiendo por la desviación estándar de cada característica.\n",
    "\n",
    "Implementación de PCA: Calculamos la matriz de covarianza de las características normalizadas y, a partir de ella, los valores y vectores propios. Luego ordenamos los vectores propios según los valores propios de mayor a menor para obtener los componentes principales.\n",
    "\n",
    "Selección de Componentes Principales: Basándonos en la varianza explicada acumulativa, decidimos utilizar los primeros tres componentes principales para nuestro modelo de clasificación, ya que estos explican más del 60% de la varianza.\n",
    "\n",
    "Construcción del Modelo de Clasificación: Implementamos una regresión logística desde cero, utilizando Numpy para manejar las operaciones matriciales y vectores. Este modelo utilizó una función sigmoide para predecir la probabilidad de que cada transacción fuera fraudulenta.\n",
    "\n",
    "Evaluación del Modelo: Dividimos manualmente el dataset en conjuntos de entrenamiento y prueba usando Numpy, entrenamos el modelo de regresión logística con el conjunto de entrenamiento y calculamos la exactitud del modelo con el conjunto de prueba.\n",
    "\n",
    "Visualización de Resultados: Generamos varias visualizaciones utilizando Matplotlib para interpretar mejor los resultados del modelo y la distribución de los datos. Esto incluyó un gráfico de la varianza explicada por PCA, un gráfico de dispersión de las transacciones en los componentes principales y un histograma de las probabilidades de fraude predichas.\n",
    "\n",
    "Comparación de Predicciones y Valores Reales: Finalmente, presentamos una gráfica que muestra las predicciones del modelo en comparación con los valores reales, lo que nos permitió visualizar la precisión de las predicciones del modelo.\n",
    "\n",
    "Cada paso nos proporcionó información valiosa sobre la naturaleza de los datos y la efectividad del modelo. La reducción de dimensionalidad con PCA ayudó a simplificar los datos sin perder la esencia de la información, y la regresión logística proporcionó un modelo de clasificación binaria que fue capaz de predecir con una exactitud razonable si una transacción era fraudulenta o no. Las visualizaciones nos permitieron entender mejor tanto el rendimiento del modelo como las características subyacentes de los datos."
   ]
  }
 ],
 "metadata": {
  "kernelspec": {
   "display_name": "Python 3",
   "language": "python",
   "name": "python3"
  },
  "language_info": {
   "codemirror_mode": {
    "name": "ipython",
    "version": 3
   },
   "file_extension": ".py",
   "mimetype": "text/x-python",
   "name": "python",
   "nbconvert_exporter": "python",
   "pygments_lexer": "ipython3",
   "version": "3.11.5"
  }
 },
 "nbformat": 4,
 "nbformat_minor": 2
}
